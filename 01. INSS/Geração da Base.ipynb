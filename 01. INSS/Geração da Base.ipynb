{
  "nbformat": 4,
  "nbformat_minor": 0,
  "metadata": {
    "colab": {
      "provenance": []
    },
    "kernelspec": {
      "name": "python3",
      "display_name": "Python 3"
    },
    "language_info": {
      "name": "python"
    }
  },
  "cells": [
    {
      "cell_type": "code",
      "execution_count": null,
      "metadata": {
        "id": "xCvT3av_bH3E"
      },
      "outputs": [],
      "source": []
    },
    {
      "cell_type": "markdown",
      "source": [
        "Este caderno Jupyter se dedica a criar uma base sintética de benefícios do INSS contendo algumas fraudes. O caso foi baseado em um caso descrito da seguinte forma:\n",
        "\n",
        "\"A fraude foi detectada a partir de uma análise encaminhada pelo INSS. A PF disse também que o servidor investigado reativou temporariamente benefícios cessados por morte, alterando tanto o motivo da interrupção quanto os dados do titular, para receber os valores das aposentadorias na conta dele.\"\n",
        "fonte: https://g1.globo.com/pe/pernambuco/noticia/2023/07/04/servidor-do-inss-e-investigado-por-ressuscitar-beneficiarios-mortos-e-desviar-dinheiro-de-aposentadorias.ghtml.\n",
        "\n",
        "\n",
        "A base sintética possui as seguintes entidades com suas respectivas colunas:\n",
        "\n",
        "Tabela de servidores:\n",
        "- id_servidor: Matrícula do servidor concedente (0,1,2,...)\n",
        "- uf_servidor: Unidade da Federação do servidor concedente (AC, AL, AP, ...)\n",
        "\n",
        "Tabela de benefícios:\n",
        "- id_beneficio: Número do Benefício (0,1,2,...)\n",
        "- uf_beneficiario: Unidade da Federação do beneficiário  (AC, AL, AP, ...)\n",
        "- id_servidor: Matrícula do servidor concedente\n",
        "- uf_servidor: Unidade da Federação do servidor concedente (AC, AL, AP, ...)\n",
        "- uf_coincidente: Indicação se a UF do servidor e do beneficiário é igual (true/false)\n",
        "- reativado: Indicação se o benefício foi reativado (true/false);\n",
        "- valor_beneficio: Valor do benefício.\n",
        "- tempo_analise: Tempo de análise.\n"
      ],
      "metadata": {
        "id": "PzLlKHzfbgER"
      }
    },
    {
      "cell_type": "code",
      "source": [
        "# prompt: Gere a tabela de servidores, contendo 500 registros.\n",
        "# Salve em um dataframe servidores e em um arquivo servidores.csv\n",
        "\n",
        "import pandas as pd\n",
        "import numpy as np\n",
        "\n",
        "# Define a seed for reproducibility\n",
        "np.random.seed(42)\n",
        "\n",
        "# Number of server records\n",
        "n_servers = 500\n",
        "\n",
        "# Create a list of Brazilian states\n",
        "ufs = ['AC', 'AL', 'AP', 'AM', 'BA', 'CE', 'DF', 'ES', 'GO', 'MA', 'MT', 'MS', 'MG', 'PA', 'PB', 'PR', 'PE', 'PI', 'RJ', 'RN', 'RS', 'RO', 'RR', 'SC', 'SP', 'SE', 'TO']\n",
        "\n",
        "# Generate server data\n",
        "data = {\n",
        "    'id_servidor': range(n_servers),\n",
        "    'uf_servidor': np.random.choice(ufs, size=n_servers)\n",
        "}\n",
        "\n",
        "# Create the DataFrame\n",
        "servidores = pd.DataFrame(data)\n",
        "\n",
        "# Save the DataFrame to a CSV file\n",
        "servidores.to_csv('servidores.csv', index=False)\n",
        "\n",
        "# Display the first 5 rows of the DataFrame\n",
        "print(servidores.head())\n"
      ],
      "metadata": {
        "colab": {
          "base_uri": "https://localhost:8080/"
        },
        "id": "VXFrE4jbdlMh",
        "outputId": "10195854-f61a-467b-bbaf-e36b3574a4fe"
      },
      "execution_count": 1,
      "outputs": [
        {
          "output_type": "stream",
          "name": "stdout",
          "text": [
            "   id_servidor uf_servidor\n",
            "0            0          DF\n",
            "1            1          RN\n",
            "2            2          PB\n",
            "3            3          MT\n",
            "4            4          ES\n"
          ]
        }
      ]
    },
    {
      "cell_type": "code",
      "source": [
        "# prompt: Gere a tabela de benefícios, contendo 100.000 registros.\n",
        "# Salve em um dataframe beneficios e em um arquivo beneficios.csv\n",
        "# Use a seguinte distribuição nas seguintes colunas:\n",
        "# uf_coincidente: verdadeiro em 90% das vezes\n",
        "# reativado: verdadeiro em 5% das vezes\n",
        "# valor_beneficio: log-normal (média=log(2000), std=0.1)\n",
        "# tempo_analise: gamma(alpha=3, scale=1)+5+valor_beneficio/1000+reativado*2\n",
        "# Considere que 20 servidores são fraudadores. Desses, 3% dos benefícios são fraudados.\n",
        "# Os benefícios fraudados possuem outras características:\n",
        "# uf_coincidente: verdadeiro em 99% das vezes\n",
        "# reativado: sempre verdadeiro\n",
        "# valor_beneficio: log-normal (média=log(2500), std=0.05)\n",
        "# tempo_analise: gamma(alpha=2, scale=1)+8\n",
        "# insira dos dados gerados uma coluna \"fraude\" indicando se o benefício foi fraudado ou não (true/false)\n",
        "\n",
        "import pandas as pd\n",
        "import numpy as np\n",
        "\n",
        "# Define a seed for reproducibility\n",
        "np.random.seed(42)\n",
        "\n",
        "# Number of benefit records\n",
        "n_beneficios = 100000\n",
        "\n",
        "# Generate benefit data\n",
        "data = {\n",
        "    'id_beneficio': range(n_beneficios),\n",
        "    'uf_beneficiario': np.random.choice(ufs, size=n_beneficios),\n",
        "    'id_servidor': np.random.choice(range(n_servers), size=n_beneficios),\n",
        "    'uf_coincidente': np.random.choice([True, False], size=n_beneficios, p=[0.9, 0.1]),\n",
        "    'reativado': np.random.choice([True, False], size=n_beneficios, p=[0.05, 0.95]),\n",
        "    'valor_beneficio': np.random.lognormal(mean=np.log(2000), sigma=0.1, size=n_beneficios),\n",
        "    'fraude': np.random.choice([True,False], size=n_beneficios, p=[0.00,1.0])\n",
        "}\n",
        "\n",
        "# Create the DataFrame\n",
        "beneficios = pd.DataFrame(data)\n",
        "\n",
        "# Simulate fraudulent benefits\n",
        "n_fraudulent_servers = 20\n",
        "fraudulent_server_ids = np.random.choice(range(n_servers), size=n_fraudulent_servers, replace=False)\n",
        "fraud_rate = 0.03\n",
        "\n",
        "for i in range(n_beneficios):\n",
        "  if beneficios.loc[i,'id_servidor'] in fraudulent_server_ids:\n",
        "    if np.random.rand() < fraud_rate:\n",
        "        beneficios.loc[i, 'fraude'] = True\n",
        "        beneficios.loc[i, 'uf_coincidente'] = np.random.choice([True, False], p=[0.99, 0.01])\n",
        "        beneficios.loc[i, 'reativado'] = True\n",
        "        beneficios.loc[i, 'valor_beneficio'] = np.random.lognormal(mean=np.log(2500), sigma=0.05)\n",
        "\n",
        "\n",
        "# Calculate tempo_analise\n",
        "beneficios['tempo_analise'] = np.random.gamma(shape=3, scale=1, size=n_beneficios) + 5 + beneficios['valor_beneficio'] / 1000 + beneficios['reativado'] * 2\n",
        "for i in range(n_beneficios):\n",
        "  if beneficios.loc[i,'fraude']:\n",
        "    beneficios.loc[i, 'tempo_analise'] = np.random.gamma(shape=2, scale=1) + 8\n",
        "# Save the DataFrame to a CSV file\n",
        "beneficios.to_csv('beneficios.csv', index=False)\n"
      ],
      "metadata": {
        "id": "sSvB34svd5CG"
      },
      "execution_count": 2,
      "outputs": []
    },
    {
      "cell_type": "code",
      "source": [
        "# prompt: Faça uma análise descritiva sobre todos os servidores, criando um novo dataframe com as seguintes colunas:\n",
        "# id_servidor: Matrícula do servidor concedente\n",
        "# num_beneficios: número de benefícios concedido por cada servidor\n",
        "# percentual_reativado: percentual de reativações por servidor\n",
        "# percentual_uf_coincidente: percentual de UFs coincidentes entre servidor e beneficiário\n",
        "# media_valor: valor médio do benefício por servidor\n",
        "# media_tempo: tempo médio de análise por servidor\n",
        "# fraude: indicação se o servidor cometeu alguma fraude (true/false)\n",
        "# Salve em um dataframe analise_servidores e em um arquivo analise_servidores.csv\n",
        "\n",
        "import pandas as pd\n",
        "import numpy as np\n",
        "\n",
        "# Load the datasets\n",
        "servidores = pd.read_csv('servidores.csv')\n",
        "beneficios = pd.read_csv('beneficios.csv')\n",
        "\n",
        "# Merge dataframes\n",
        "merged_df = pd.merge(servidores, beneficios, on='id_servidor', how='inner')\n",
        "\n",
        "# Group data by server\n",
        "analise_servidores = merged_df.groupby('id_servidor').agg(\n",
        "    num_beneficios=('id_beneficio', 'count'),\n",
        "    percentual_reativado=('reativado', lambda x: (x.sum() / len(x)) * 100 if len(x) > 0 else 0),\n",
        "    percentual_uf_coincidente=('uf_coincidente', lambda x: (x.sum() / len(x)) * 100 if len(x) > 0 else 0),\n",
        "    media_valor=('valor_beneficio', 'mean'),\n",
        "    media_tempo=('tempo_analise', 'mean'),\n",
        "    fraude=('fraude', 'max')\n",
        ").reset_index()\n",
        "\n",
        "# Fill NaN values with False for fraude column (assuming no fraud if no benefits)\n",
        "analise_servidores['fraude'] = analise_servidores['fraude'].fillna(False)\n",
        "\n",
        "# Rename columns for clarity\n",
        "analise_servidores = analise_servidores.rename(columns={'id_servidor': 'id_servidor'})\n",
        "\n",
        "#Save to CSV\n",
        "analise_servidores.to_csv('analise_servidores.csv', index=False)\n",
        "\n",
        "print(analise_servidores.head())\n"
      ],
      "metadata": {
        "colab": {
          "base_uri": "https://localhost:8080/"
        },
        "id": "EMWkwXZMd95H",
        "outputId": "eade99d6-46a5-48e8-9f3d-43d044a98b00"
      },
      "execution_count": 3,
      "outputs": [
        {
          "output_type": "stream",
          "name": "stdout",
          "text": [
            "   id_servidor  num_beneficios  percentual_reativado  \\\n",
            "0            0             202              3.960396   \n",
            "1            1             200              4.500000   \n",
            "2            2             192             10.937500   \n",
            "3            3             219              2.283105   \n",
            "4            4             192              6.250000   \n",
            "\n",
            "   percentual_uf_coincidente  media_valor  media_tempo  fraude  \n",
            "0                  94.059406  1988.223945    10.192713   False  \n",
            "1                  85.000000  2023.539196    10.092463   False  \n",
            "2                  86.458333  2023.542483     9.962347    True  \n",
            "3                  89.954338  2017.540348     9.990830   False  \n",
            "4                  90.625000  2014.788905    10.269233   False  \n"
          ]
        }
      ]
    },
    {
      "cell_type": "code",
      "source": [],
      "metadata": {
        "id": "T5dAV8qHZJj6"
      },
      "execution_count": null,
      "outputs": []
    }
  ]
}